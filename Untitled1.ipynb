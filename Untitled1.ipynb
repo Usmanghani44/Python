{
  "cells": [
    {
      "cell_type": "code",
      "execution_count": null,
      "metadata": {
        "colab": {
          "base_uri": "https://localhost:8080/"
        },
        "id": "oTyPu2Zieg11",
        "outputId": "64c6fa01-5102-45c9-8f79-76b66d0d3091"
      },
      "outputs": [
        {
          "name": "stdout",
          "output_type": "stream",
          "text": [
            "i am usman\n"
          ]
        }
      ],
      "source": [
        "String1='i am usman'\n",
        "print(String1)"
      ]
    },
    {
      "cell_type": "code",
      "execution_count": null,
      "metadata": {
        "colab": {
          "base_uri": "https://localhost:8080/"
        },
        "id": "UimjcWF8gLEC",
        "outputId": "951dad7e-7b27-429f-8708-1044e66d2a62"
      },
      "outputs": [
        {
          "name": "stdout",
          "output_type": "stream",
          "text": [
            "i am usman\n",
            "i\n",
            " \n",
            "m\n",
            "u\n",
            "n\n",
            "m\n",
            "u\n"
          ]
        }
      ],
      "source": [
        "String1=\"i am usman\"\n",
        "print(String1)\n",
        "\n",
        "print(String1[0])\n",
        "print(String1[1])\n",
        "print(String1[3])\n",
        "print(String1[5])\n"
      ]
    },
    {
      "cell_type": "code",
      "execution_count": 32,
      "metadata": {
        "colab": {
          "base_uri": "https://localhost:8080/"
        },
        "id": "PZmIV6QuhmqK",
        "outputId": "bbf95c5c-bfaa-43ae-dfb2-10f770b3ff6e"
      },
      "outputs": [
        {
          "output_type": "stream",
          "name": "stdout",
          "text": [
            "learn\n",
            "learn\n",
            "Python\n",
            "learn Python\n",
            "learn\n"
          ]
        }
      ],
      "source": [
        "myString='learn Python'\n",
        "print(myString[0:5])\n",
        "print(myString[-12:-7])\n",
        "print(myString[6:])\n",
        "print(myString[:])\n",
        "print(myString[:-7])\n"
      ]
    },
    {
      "cell_type": "markdown",
      "source": [
        "x=''"
      ],
      "metadata": {
        "id": "WoXF8n6ds6EY"
      }
    },
    {
      "cell_type": "code",
      "source": [
        "x='python class'\n",
        "print(x[::-1])\n",
        "\n",
        "x='python class'\n",
        "print(x[0:6:1])\n",
        "\n",
        "y='Ghani Usman'\n",
        "print(y[-1:-11])\n",
        "\n",
        "x='usman'\n",
        "print(x.index('u'),x.index('s'),x.index('m'))"
      ],
      "metadata": {
        "colab": {
          "base_uri": "https://localhost:8080/"
        },
        "id": "7dTnMx9StCiw",
        "outputId": "c375d984-7cd9-4af3-a497-14be8c65a1ab"
      },
      "execution_count": 51,
      "outputs": [
        {
          "output_type": "stream",
          "name": "stdout",
          "text": [
            "ssalc nohtyp\n",
            "python\n",
            "\n",
            "0 1 2\n"
          ]
        }
      ]
    },
    {
      "cell_type": "code",
      "source": [
        "y ='Ghani Usman'\n",
        "print(y[-5:9])"
      ],
      "metadata": {
        "colab": {
          "base_uri": "https://localhost:8080/"
        },
        "id": "0r2lXFb1xr4A",
        "outputId": "c55f1174-0cba-48eb-d176-8d8e03425acc"
      },
      "execution_count": 56,
      "outputs": [
        {
          "output_type": "stream",
          "name": "stdout",
          "text": [
            "\n"
          ]
        }
      ]
    }
  ],
  "metadata": {
    "colab": {
      "provenance": []
    },
    "kernelspec": {
      "display_name": "Python 3",
      "name": "python3"
    },
    "language_info": {
      "name": "python"
    }
  },
  "nbformat": 4,
  "nbformat_minor": 0
}