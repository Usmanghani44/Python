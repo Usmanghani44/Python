{
  "nbformat": 4,
  "nbformat_minor": 0,
  "metadata": {
    "colab": {
      "private_outputs": true,
      "provenance": []
    },
    "kernelspec": {
      "name": "python3",
      "display_name": "Python 3"
    },
    "language_info": {
      "name": "python"
    }
  },
  "cells": [
    {
      "cell_type": "code",
      "execution_count": null,
      "metadata": {
        "id": "ycpYKGvR7DnG"
      },
      "outputs": [],
      "source": [
        "x=[10,20,30,40,50]\n",
        "print(x[0])\n",
        "print(x[0:2])\n",
        "print(x[-1])\n",
        "print(x[:3])\n",
        "print(x[4:])\n"
      ]
    },
    {
      "cell_type": "code",
      "source": [
        "a=[\"Aplle\", \"banana\",\"chery\",\"ornage\",\"kivi\",\"melon\",\"mango\"]\n",
        "print(a[2:5])"
      ],
      "metadata": {
        "id": "2SG8UND0A2jN"
      },
      "execution_count": null,
      "outputs": []
    },
    {
      "cell_type": "markdown",
      "source": [
        "Matrix Operations Extract the first two rows:"
      ],
      "metadata": {
        "id": "nB0YlSDHjd8e"
      }
    },
    {
      "cell_type": "code",
      "source": [
        "matrix = [\n",
        "    [1, 2, 3],\n",
        "    [4, 5, 6],\n",
        "    [7, 8, 9],\n",
        "    [10, 11, 12]\n",
        "]\n",
        "first_two_rows = matrix[:2]\n",
        "print(first_two_rows)"
      ],
      "metadata": {
        "id": "cPCDFdbvjQ3x"
      },
      "execution_count": null,
      "outputs": []
    },
    {
      "cell_type": "markdown",
      "source": [
        "b) Extract only the second column from all rows:"
      ],
      "metadata": {
        "id": "7WTEgqyVjl1v"
      }
    },
    {
      "cell_type": "code",
      "source": [
        "second_column = [row[1] for row in matrix]\n",
        "print(second_column)"
      ],
      "metadata": {
        "id": "qJa0kfkgjtp-"
      },
      "execution_count": null,
      "outputs": []
    },
    {
      "cell_type": "markdown",
      "source": [
        "2. Temperature List Operations\n",
        "a) Extract temperatures from index 2 to 6:"
      ],
      "metadata": {
        "id": "iVUH5dYWj3Of"
      }
    },
    {
      "cell_type": "code",
      "source": [
        "temperatures = [32, 35, 30, 28, 40, 45, 38, 36, 33]\n",
        "temp_subset_1 = temperatures[2:7]\n",
        "print(temp_subset_1)\n"
      ],
      "metadata": {
        "id": "5K7pm5CAj69n"
      },
      "execution_count": null,
      "outputs": []
    },
    {
      "cell_type": "markdown",
      "source": [
        "b) Extract temperatures from index 4 to the end:"
      ],
      "metadata": {
        "id": "sybXxdmtkICv"
      }
    },
    {
      "cell_type": "code",
      "source": [
        "temp_subset_2 = temperatures[4:]\n",
        "print(temp_subset_2)"
      ],
      "metadata": {
        "id": "k_reFbENjdIH"
      },
      "execution_count": null,
      "outputs": []
    },
    {
      "cell_type": "markdown",
      "source": [
        "3. Colors List Operations\n",
        "a) Extract every second color:\n"
      ],
      "metadata": {
        "id": "zU68Ggl9keZW"
      }
    },
    {
      "cell_type": "code",
      "source": [
        "colors = ['red', 'blue', 'green', 'yellow', 'purple', 'orange', 'pink']\n",
        "every_second_color = colors[::2]\n",
        "print(every_second_color)\n"
      ],
      "metadata": {
        "id": "Xf7xx0XQjsYP"
      },
      "execution_count": null,
      "outputs": []
    },
    {
      "cell_type": "markdown",
      "source": [
        "b) Extract every third color:"
      ],
      "metadata": {
        "id": "N2fn11JelCyI"
      }
    },
    {
      "cell_type": "code",
      "source": [
        "every_third_color = colors[::3]\n",
        "print(every_third_color)"
      ],
      "metadata": {
        "id": "_Sddw5mukwFe"
      },
      "execution_count": null,
      "outputs": []
    },
    {
      "cell_type": "markdown",
      "source": [
        "Append Items"
      ],
      "metadata": {
        "id": "LeKNmLXm1d21"
      }
    },
    {
      "cell_type": "code",
      "source": [
        "x=[10,20,30,40,50]\n",
        "x.append(60)\n",
        "print(x)"
      ],
      "metadata": {
        "id": "wvMVo6eU1pKe"
      },
      "execution_count": null,
      "outputs": []
    },
    {
      "cell_type": "code",
      "source": [
        "y=[\"Aplle\", \"banana\", \"cherry\"]\n",
        "y.append(\"orange\")\n",
        "print(y)"
      ],
      "metadata": {
        "id": "Ujf4bzSt2Ojm"
      },
      "execution_count": null,
      "outputs": []
    },
    {
      "cell_type": "code",
      "source": [
        "A=[\"Aplle\", \"banana\", \"cherry\"]\n",
        "A.insert(1,\"orange\")\n",
        "print(A)"
      ],
      "metadata": {
        "id": "I8XFXKkL3vge"
      },
      "execution_count": null,
      "outputs": []
    },
    {
      "cell_type": "code",
      "source": [
        "c=[\"Apple\",\"banana\",\"cherry\"]\n",
        "c.remove(\"banana\")\n",
        "print(c)\n"
      ],
      "metadata": {
        "id": "iXgx42Sx4dv3"
      },
      "execution_count": null,
      "outputs": []
    },
    {
      "cell_type": "code",
      "source": [
        "D=[\"Apple\",\"banana\",\"cherry\"]\n",
        "D.pop(1)\n",
        "print(D)\n"
      ],
      "metadata": {
        "id": "wiH0vR4X5JXO"
      },
      "execution_count": null,
      "outputs": []
    },
    {
      "cell_type": "code",
      "source": [
        "F=[\"Apple\",\"banana\",\"cherry\"]\n",
        "F.clear()\n",
        "print(F)\n"
      ],
      "metadata": {
        "id": "Qju51rR35NXd"
      },
      "execution_count": null,
      "outputs": []
    },
    {
      "cell_type": "code",
      "source": [
        "G=[\"Apple\",\"banana\",\"cherry\"]\n",
        "H=[\"orange\",\"kiwi\",\"mango\"]\n",
        "G.extend(H)\n",
        "print(G)\n"
      ],
      "metadata": {
        "id": "JHmYfRRc5SBd"
      },
      "execution_count": null,
      "outputs": []
    },
    {
      "cell_type": "code",
      "source": [
        "G=[\"Apple\",\"banana\",\"cherry\"]\n",
        "U=G.copy()\n",
        "print(U)"
      ],
      "metadata": {
        "id": "W8u3iMXHG1Hd"
      },
      "execution_count": null,
      "outputs": []
    },
    {
      "cell_type": "code",
      "source": [],
      "metadata": {
        "id": "98UwEYVBHGVN"
      },
      "execution_count": null,
      "outputs": []
    }
  ]
}